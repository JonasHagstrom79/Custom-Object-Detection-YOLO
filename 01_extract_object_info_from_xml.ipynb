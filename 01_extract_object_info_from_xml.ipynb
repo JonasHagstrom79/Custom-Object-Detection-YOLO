{
  "nbformat": 4,
  "nbformat_minor": 0,
  "metadata": {
    "colab": {
      "provenance": [],
      "authorship_tag": "ABX9TyMUejDa/Ne+qao0+y1tkzvS"
    },
    "kernelspec": {
      "name": "python3",
      "display_name": "Python 3"
    },
    "language_info": {
      "name": "python"
    }
  },
  "cells": [
    {
      "cell_type": "code",
      "execution_count": 3,
      "metadata": {
        "id": "FwOegptLDoSf"
      },
      "outputs": [],
      "source": [
        "import os\n",
        "from glob import glob\n",
        "import pandas as pd\n",
        "from functools import reduce\n",
        "from xml.etree import ElementTree as et"
      ]
    }
  ]
}