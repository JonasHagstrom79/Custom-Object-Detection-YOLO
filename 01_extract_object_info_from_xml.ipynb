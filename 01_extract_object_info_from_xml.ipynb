{
  "nbformat": 4,
  "nbformat_minor": 0,
  "metadata": {
    "colab": {
      "provenance": [],
      "authorship_tag": "ABX9TyPW+1WTY2hspeE42nU8YxHO"
    },
    "kernelspec": {
      "name": "python3",
      "display_name": "Python 3"
    },
    "language_info": {
      "name": "python"
    }
  },
  "cells": [
    {
      "cell_type": "code",
      "execution_count": 3,
      "metadata": {
        "id": "FwOegptLDoSf"
      },
      "outputs": [],
      "source": [
        "import os\n",
        "from glob import glob\n",
        "import pandas as pd\n",
        "from functools import reduce\n",
        "from xml.etree import ElementTree as et"
      ]
    },
    {
      "cell_type": "code",
      "source": [
        "from google.colab import drive\n",
        "drive.mount('/content/drive')"
      ],
      "metadata": {
        "colab": {
          "base_uri": "https://localhost:8080/"
        },
        "id": "4gm3G9V7Y1H2",
        "outputId": "5fca4984-dfaa-47d9-92ba-4b3fbaa989b8"
      },
      "execution_count": 19,
      "outputs": [
        {
          "output_type": "stream",
          "name": "stdout",
          "text": [
            "Mounted at /content/drive\n"
          ]
        }
      ]
    },
    {
      "cell_type": "code",
      "source": [
        "folder_path = '/content/drive/My Drive/data_preparation/data_images'\n",
        "\n",
        "# Lista alla filer i mappen\n",
        "file_list = os.listdir(folder_path)\n",
        "\n",
        "# Skriv ut filerna\n",
        "print(file_list)"
      ],
      "metadata": {
        "colab": {
          "base_uri": "https://localhost:8080/"
        },
        "id": "IFFFCLmAY2ql",
        "outputId": "35aa92f2-b441-44f4-f89a-637403e03375"
      },
      "execution_count": 20,
      "outputs": [
        {
          "output_type": "stream",
          "name": "stdout",
          "text": [
            "['000296.xml', '000298.xml', '000302.xml', '000294.xml', '000289.xml', '000296.jpg', '000289.jpg', '000263.xml', '000259.jpg', '000263.jpg', '000266.jpg', '000275.xml', '000268.xml', '000266.xml', '000268.jpg', '000269.jpg', '000270.jpg', '000269.xml', '000270.xml', '000275.jpg', '000276.jpg', '000276.xml', '000282.jpg', '000278.jpg', '000285.xml', '000282.xml', '000278.xml', '000288.xml', '000285.jpg', '000288.jpg', '000257.jpg', '000262.jpg', '000020.jpg', '000020.xml', '000021.jpg', '000019.xml', '000009.xml', '000016.jpg', '000001.xml', '000021.xml', '000012.jpg', '000017.xml', '000002.jpg', '000017.jpg', '000009.jpg', '000016.xml', '000019.jpg', '000001.jpg', '000007.jpg', '000002.xml', '000007.xml', '000023.jpg', '000012.xml', '000047.xml', '000032.jpg', '000032.xml', '000041.xml', '000026.jpg', '000048.xml', '000034.jpg', '000030.jpg', '000046.jpg', '000033.jpg', '000044.xml', '000039.jpg', '000042.jpg', '000036.xml', '000050.jpg', '000033.xml', '000039.xml', '000047.jpg', '000035.xml', '000030.xml', '000034.xml', '000024.xml', '000042.xml', '000036.jpg', '000024.jpg', '000046.xml', '000035.jpg', '000026.xml', '000048.jpg', '000044.jpg', '000023.xml', '000041.jpg', '000065.jpg', '000052.jpg', '000078.jpg', '000051.jpg', '000072.jpg', '000060.xml', '000061.xml', '000063.xml', '000083.jpg', '000081.jpg', '000050.xml', '000077.jpg', '000061.jpg', '000064.xml', '000060.jpg', '000052.xml', '000051.xml', '000083.xml', '000066.xml', '000072.xml', '000073.xml', '000089.jpg', '000064.jpg', '000081.xml', '000073.jpg', '000065.xml', '000063.jpg', '000078.xml', '000077.xml', '000066.jpg', '000102.xml', '000112.jpg', '000120.jpg', '000101.jpg', '000104.jpg', '000117.jpg', '000093.jpg', '000102.jpg', '000107.jpg', '000091.jpg', '000112.xml', '000110.xml', '000110.jpg', '000099.xml', '000101.xml', '000104.xml', '000118.xml', '000109.xml', '000099.jpg', '000113.jpg', '000118.jpg', '000117.xml', '000121.jpg', '000113.xml', '000120.xml', '000095.xml', '000089.xml', '000095.jpg', '000093.xml', '000091.xml', '000109.jpg', '000107.xml', '000121.xml', '000141.jpg', '000122.jpg', '000138.xml', '000138.jpg', '000133.jpg', '000125.jpg', '000134.xml', '000130.jpg', '000143.jpg', '000129.xml', '000122.xml', '000131.xml', '000134.jpg', '000133.xml', '000140.xml', '000123.jpg', '000132.jpg', '000142.jpg', '000129.jpg', '000131.jpg', '000132.xml', '000123.xml', '000142.xml', '000130.xml', '000141.xml', '000140.jpg', '000125.xml', '000156.jpg', '000146.xml', '000147.xml', '000147.jpg', '000153.xml', '000158.xml', '000143.xml', '000153.jpg', '000146.jpg', '000154.jpg', '000158.jpg', '000156.xml', '000150.jpg', '000154.xml', '000150.xml', '000165.xml', '000159.xml', '000163.xml', '000174.xml', '000165.jpg', '000169.jpg', '000162.jpg', '000161.jpg', '000170.xml', '000174.jpg', '000173.xml', '000171.xml', '000162.xml', '000177.jpg', '000169.xml', '000164.xml', '000170.jpg', '000171.jpg', '000159.jpg', '000173.jpg', '000161.xml', '000163.jpg', '000164.jpg', '000198.jpg', '000194.jpg', '000194.xml', '000189.jpg', '000184.xml', '000187.jpg', '000193.jpg', '000198.xml', '000177.xml', '000180.jpg', '000192.jpg', '000193.xml', '000189.xml', '000187.xml', '000192.xml', '000190.jpg', '000184.jpg', '000180.xml', '000190.xml', '000207.jpg', '000218.xml', '000210.jpg', '000200.xml', '000220.jpg', '000219.jpg', '000221.jpg', '000207.xml', '000203.jpg', '000219.xml', '000221.xml', '000209.jpg', '000208.xml', '000203.xml', '000208.jpg', '000209.xml', '000211.jpg', '000222.jpg', '000215.xml', '000211.xml', '000214.xml', '000214.jpg', '000220.xml', '000218.jpg', '000210.xml', '000200.jpg', '000215.jpg', '000245.xml', '000246.xml', '000232.xml', '000228.xml', '000236.xml', '000242.xml', '000245.jpg', '000235.jpg', '000246.jpg', '000232.jpg', '000236.jpg', '000224.jpg', '000249.jpg', '000242.jpg', '000229.jpg', '000249.xml', '000224.xml', '000233.jpg', '000225.xml', '000225.jpg', '000235.xml', '000241.xml', '000228.jpg', '000229.xml', '000244.xml', '000241.jpg', '000233.xml', '000222.xml', '000244.jpg', '000251.xml', '000256.jpg', '000259.xml', '000250.jpg', '000250.xml', '000257.xml', '000251.jpg', '000262.xml', '000256.xml', '000303.jpg', '000298.jpg', '000302.jpg', '000294.jpg']\n"
          ]
        }
      ]
    },
    {
      "cell_type": "code",
      "source": [
        "# load all xml files and store in a list\n",
        "xml_list = glob(f\"{folder_path}/*.xml\")"
      ],
      "metadata": {
        "id": "SNmRCJ2dHKEI"
      },
      "execution_count": 21,
      "outputs": []
    },
    {
      "cell_type": "code",
      "source": [
        "xml_list"
      ],
      "metadata": {
        "colab": {
          "base_uri": "https://localhost:8080/"
        },
        "id": "IHhoPZMSHgnT",
        "outputId": "82a0802f-7e1a-4de1-cbdc-95c69c31655e"
      },
      "execution_count": 22,
      "outputs": [
        {
          "output_type": "execute_result",
          "data": {
            "text/plain": [
              "['/content/drive/My Drive/data_preparation/data_images/000296.xml',\n",
              " '/content/drive/My Drive/data_preparation/data_images/000298.xml',\n",
              " '/content/drive/My Drive/data_preparation/data_images/000302.xml',\n",
              " '/content/drive/My Drive/data_preparation/data_images/000294.xml',\n",
              " '/content/drive/My Drive/data_preparation/data_images/000289.xml',\n",
              " '/content/drive/My Drive/data_preparation/data_images/000263.xml',\n",
              " '/content/drive/My Drive/data_preparation/data_images/000275.xml',\n",
              " '/content/drive/My Drive/data_preparation/data_images/000268.xml',\n",
              " '/content/drive/My Drive/data_preparation/data_images/000266.xml',\n",
              " '/content/drive/My Drive/data_preparation/data_images/000269.xml',\n",
              " '/content/drive/My Drive/data_preparation/data_images/000270.xml',\n",
              " '/content/drive/My Drive/data_preparation/data_images/000276.xml',\n",
              " '/content/drive/My Drive/data_preparation/data_images/000285.xml',\n",
              " '/content/drive/My Drive/data_preparation/data_images/000282.xml',\n",
              " '/content/drive/My Drive/data_preparation/data_images/000278.xml',\n",
              " '/content/drive/My Drive/data_preparation/data_images/000288.xml',\n",
              " '/content/drive/My Drive/data_preparation/data_images/000020.xml',\n",
              " '/content/drive/My Drive/data_preparation/data_images/000019.xml',\n",
              " '/content/drive/My Drive/data_preparation/data_images/000009.xml',\n",
              " '/content/drive/My Drive/data_preparation/data_images/000001.xml',\n",
              " '/content/drive/My Drive/data_preparation/data_images/000021.xml',\n",
              " '/content/drive/My Drive/data_preparation/data_images/000017.xml',\n",
              " '/content/drive/My Drive/data_preparation/data_images/000016.xml',\n",
              " '/content/drive/My Drive/data_preparation/data_images/000002.xml',\n",
              " '/content/drive/My Drive/data_preparation/data_images/000007.xml',\n",
              " '/content/drive/My Drive/data_preparation/data_images/000012.xml',\n",
              " '/content/drive/My Drive/data_preparation/data_images/000047.xml',\n",
              " '/content/drive/My Drive/data_preparation/data_images/000032.xml',\n",
              " '/content/drive/My Drive/data_preparation/data_images/000041.xml',\n",
              " '/content/drive/My Drive/data_preparation/data_images/000048.xml',\n",
              " '/content/drive/My Drive/data_preparation/data_images/000044.xml',\n",
              " '/content/drive/My Drive/data_preparation/data_images/000036.xml',\n",
              " '/content/drive/My Drive/data_preparation/data_images/000033.xml',\n",
              " '/content/drive/My Drive/data_preparation/data_images/000039.xml',\n",
              " '/content/drive/My Drive/data_preparation/data_images/000035.xml',\n",
              " '/content/drive/My Drive/data_preparation/data_images/000030.xml',\n",
              " '/content/drive/My Drive/data_preparation/data_images/000034.xml',\n",
              " '/content/drive/My Drive/data_preparation/data_images/000024.xml',\n",
              " '/content/drive/My Drive/data_preparation/data_images/000042.xml',\n",
              " '/content/drive/My Drive/data_preparation/data_images/000046.xml',\n",
              " '/content/drive/My Drive/data_preparation/data_images/000026.xml',\n",
              " '/content/drive/My Drive/data_preparation/data_images/000023.xml',\n",
              " '/content/drive/My Drive/data_preparation/data_images/000060.xml',\n",
              " '/content/drive/My Drive/data_preparation/data_images/000061.xml',\n",
              " '/content/drive/My Drive/data_preparation/data_images/000063.xml',\n",
              " '/content/drive/My Drive/data_preparation/data_images/000050.xml',\n",
              " '/content/drive/My Drive/data_preparation/data_images/000064.xml',\n",
              " '/content/drive/My Drive/data_preparation/data_images/000052.xml',\n",
              " '/content/drive/My Drive/data_preparation/data_images/000051.xml',\n",
              " '/content/drive/My Drive/data_preparation/data_images/000083.xml',\n",
              " '/content/drive/My Drive/data_preparation/data_images/000066.xml',\n",
              " '/content/drive/My Drive/data_preparation/data_images/000072.xml',\n",
              " '/content/drive/My Drive/data_preparation/data_images/000073.xml',\n",
              " '/content/drive/My Drive/data_preparation/data_images/000081.xml',\n",
              " '/content/drive/My Drive/data_preparation/data_images/000065.xml',\n",
              " '/content/drive/My Drive/data_preparation/data_images/000078.xml',\n",
              " '/content/drive/My Drive/data_preparation/data_images/000077.xml',\n",
              " '/content/drive/My Drive/data_preparation/data_images/000102.xml',\n",
              " '/content/drive/My Drive/data_preparation/data_images/000112.xml',\n",
              " '/content/drive/My Drive/data_preparation/data_images/000110.xml',\n",
              " '/content/drive/My Drive/data_preparation/data_images/000099.xml',\n",
              " '/content/drive/My Drive/data_preparation/data_images/000101.xml',\n",
              " '/content/drive/My Drive/data_preparation/data_images/000104.xml',\n",
              " '/content/drive/My Drive/data_preparation/data_images/000118.xml',\n",
              " '/content/drive/My Drive/data_preparation/data_images/000109.xml',\n",
              " '/content/drive/My Drive/data_preparation/data_images/000117.xml',\n",
              " '/content/drive/My Drive/data_preparation/data_images/000113.xml',\n",
              " '/content/drive/My Drive/data_preparation/data_images/000120.xml',\n",
              " '/content/drive/My Drive/data_preparation/data_images/000095.xml',\n",
              " '/content/drive/My Drive/data_preparation/data_images/000089.xml',\n",
              " '/content/drive/My Drive/data_preparation/data_images/000093.xml',\n",
              " '/content/drive/My Drive/data_preparation/data_images/000091.xml',\n",
              " '/content/drive/My Drive/data_preparation/data_images/000107.xml',\n",
              " '/content/drive/My Drive/data_preparation/data_images/000121.xml',\n",
              " '/content/drive/My Drive/data_preparation/data_images/000138.xml',\n",
              " '/content/drive/My Drive/data_preparation/data_images/000134.xml',\n",
              " '/content/drive/My Drive/data_preparation/data_images/000129.xml',\n",
              " '/content/drive/My Drive/data_preparation/data_images/000122.xml',\n",
              " '/content/drive/My Drive/data_preparation/data_images/000131.xml',\n",
              " '/content/drive/My Drive/data_preparation/data_images/000133.xml',\n",
              " '/content/drive/My Drive/data_preparation/data_images/000140.xml',\n",
              " '/content/drive/My Drive/data_preparation/data_images/000132.xml',\n",
              " '/content/drive/My Drive/data_preparation/data_images/000123.xml',\n",
              " '/content/drive/My Drive/data_preparation/data_images/000142.xml',\n",
              " '/content/drive/My Drive/data_preparation/data_images/000130.xml',\n",
              " '/content/drive/My Drive/data_preparation/data_images/000141.xml',\n",
              " '/content/drive/My Drive/data_preparation/data_images/000125.xml',\n",
              " '/content/drive/My Drive/data_preparation/data_images/000146.xml',\n",
              " '/content/drive/My Drive/data_preparation/data_images/000147.xml',\n",
              " '/content/drive/My Drive/data_preparation/data_images/000153.xml',\n",
              " '/content/drive/My Drive/data_preparation/data_images/000158.xml',\n",
              " '/content/drive/My Drive/data_preparation/data_images/000143.xml',\n",
              " '/content/drive/My Drive/data_preparation/data_images/000156.xml',\n",
              " '/content/drive/My Drive/data_preparation/data_images/000154.xml',\n",
              " '/content/drive/My Drive/data_preparation/data_images/000150.xml',\n",
              " '/content/drive/My Drive/data_preparation/data_images/000165.xml',\n",
              " '/content/drive/My Drive/data_preparation/data_images/000159.xml',\n",
              " '/content/drive/My Drive/data_preparation/data_images/000163.xml',\n",
              " '/content/drive/My Drive/data_preparation/data_images/000174.xml',\n",
              " '/content/drive/My Drive/data_preparation/data_images/000170.xml',\n",
              " '/content/drive/My Drive/data_preparation/data_images/000173.xml',\n",
              " '/content/drive/My Drive/data_preparation/data_images/000171.xml',\n",
              " '/content/drive/My Drive/data_preparation/data_images/000162.xml',\n",
              " '/content/drive/My Drive/data_preparation/data_images/000169.xml',\n",
              " '/content/drive/My Drive/data_preparation/data_images/000164.xml',\n",
              " '/content/drive/My Drive/data_preparation/data_images/000161.xml',\n",
              " '/content/drive/My Drive/data_preparation/data_images/000194.xml',\n",
              " '/content/drive/My Drive/data_preparation/data_images/000184.xml',\n",
              " '/content/drive/My Drive/data_preparation/data_images/000198.xml',\n",
              " '/content/drive/My Drive/data_preparation/data_images/000177.xml',\n",
              " '/content/drive/My Drive/data_preparation/data_images/000193.xml',\n",
              " '/content/drive/My Drive/data_preparation/data_images/000189.xml',\n",
              " '/content/drive/My Drive/data_preparation/data_images/000187.xml',\n",
              " '/content/drive/My Drive/data_preparation/data_images/000192.xml',\n",
              " '/content/drive/My Drive/data_preparation/data_images/000180.xml',\n",
              " '/content/drive/My Drive/data_preparation/data_images/000190.xml',\n",
              " '/content/drive/My Drive/data_preparation/data_images/000218.xml',\n",
              " '/content/drive/My Drive/data_preparation/data_images/000200.xml',\n",
              " '/content/drive/My Drive/data_preparation/data_images/000207.xml',\n",
              " '/content/drive/My Drive/data_preparation/data_images/000219.xml',\n",
              " '/content/drive/My Drive/data_preparation/data_images/000221.xml',\n",
              " '/content/drive/My Drive/data_preparation/data_images/000208.xml',\n",
              " '/content/drive/My Drive/data_preparation/data_images/000203.xml',\n",
              " '/content/drive/My Drive/data_preparation/data_images/000209.xml',\n",
              " '/content/drive/My Drive/data_preparation/data_images/000215.xml',\n",
              " '/content/drive/My Drive/data_preparation/data_images/000211.xml',\n",
              " '/content/drive/My Drive/data_preparation/data_images/000214.xml',\n",
              " '/content/drive/My Drive/data_preparation/data_images/000220.xml',\n",
              " '/content/drive/My Drive/data_preparation/data_images/000210.xml',\n",
              " '/content/drive/My Drive/data_preparation/data_images/000245.xml',\n",
              " '/content/drive/My Drive/data_preparation/data_images/000246.xml',\n",
              " '/content/drive/My Drive/data_preparation/data_images/000232.xml',\n",
              " '/content/drive/My Drive/data_preparation/data_images/000228.xml',\n",
              " '/content/drive/My Drive/data_preparation/data_images/000236.xml',\n",
              " '/content/drive/My Drive/data_preparation/data_images/000242.xml',\n",
              " '/content/drive/My Drive/data_preparation/data_images/000249.xml',\n",
              " '/content/drive/My Drive/data_preparation/data_images/000224.xml',\n",
              " '/content/drive/My Drive/data_preparation/data_images/000225.xml',\n",
              " '/content/drive/My Drive/data_preparation/data_images/000235.xml',\n",
              " '/content/drive/My Drive/data_preparation/data_images/000241.xml',\n",
              " '/content/drive/My Drive/data_preparation/data_images/000229.xml',\n",
              " '/content/drive/My Drive/data_preparation/data_images/000244.xml',\n",
              " '/content/drive/My Drive/data_preparation/data_images/000233.xml',\n",
              " '/content/drive/My Drive/data_preparation/data_images/000222.xml',\n",
              " '/content/drive/My Drive/data_preparation/data_images/000251.xml',\n",
              " '/content/drive/My Drive/data_preparation/data_images/000259.xml',\n",
              " '/content/drive/My Drive/data_preparation/data_images/000250.xml',\n",
              " '/content/drive/My Drive/data_preparation/data_images/000257.xml',\n",
              " '/content/drive/My Drive/data_preparation/data_images/000262.xml',\n",
              " '/content/drive/My Drive/data_preparation/data_images/000256.xml',\n",
              " '/content/drive/My Drive/data_preparation/data_images/000331.xml',\n",
              " '/content/drive/My Drive/data_preparation/data_images/000328.xml',\n",
              " '/content/drive/My Drive/data_preparation/data_images/000329.xml',\n",
              " '/content/drive/My Drive/data_preparation/data_images/000323.xml',\n",
              " '/content/drive/My Drive/data_preparation/data_images/000322.xml',\n",
              " '/content/drive/My Drive/data_preparation/data_images/000325.xml',\n",
              " '/content/drive/My Drive/data_preparation/data_images/000321.xml',\n",
              " '/content/drive/My Drive/data_preparation/data_images/000320.xml',\n",
              " '/content/drive/My Drive/data_preparation/data_images/000318.xml',\n",
              " '/content/drive/My Drive/data_preparation/data_images/000317.xml',\n",
              " '/content/drive/My Drive/data_preparation/data_images/000312.xml',\n",
              " '/content/drive/My Drive/data_preparation/data_images/000311.xml',\n",
              " '/content/drive/My Drive/data_preparation/data_images/000308.xml',\n",
              " '/content/drive/My Drive/data_preparation/data_images/000306.xml',\n",
              " '/content/drive/My Drive/data_preparation/data_images/000307.xml',\n",
              " '/content/drive/My Drive/data_preparation/data_images/000304.xml',\n",
              " '/content/drive/My Drive/data_preparation/data_images/000305.xml',\n",
              " '/content/drive/My Drive/data_preparation/data_images/000303.xml']"
            ]
          },
          "metadata": {},
          "execution_count": 22
        }
      ]
    },
    {
      "cell_type": "code",
      "source": [
        "# step-2: read xml files\n",
        "# from ech xml file we need to extract\n",
        "# filename, size(width, height), object(name, xmin, xmax, ymin, ymax)\n",
        "\n",
        "tree = et.parse('/content/drive/My Drive/data_preparation/data_images/000001.xml')\n",
        "root = tree.getroot()\n",
        "\n",
        "# extract filename\n",
        "image_name = root.find('filename').text\n",
        "# extract width and height from the image\n",
        "width = root.find('size').find('width').text\n",
        "height = root.find('size').find('height').text\n",
        "print(width, height)"
      ],
      "metadata": {
        "colab": {
          "base_uri": "https://localhost:8080/"
        },
        "id": "87YUgnCtKxJs",
        "outputId": "96bf825c-1499-4447-c70a-1129fad29bb7"
      },
      "execution_count": 30,
      "outputs": [
        {
          "output_type": "stream",
          "name": "stdout",
          "text": [
            "1024 657\n"
          ]
        }
      ]
    },
    {
      "cell_type": "code",
      "source": [
        "# Get the information from each object\n",
        "\n",
        "objs = root.findall('object')\n",
        "parser = []\n",
        "for obj in objs:\n",
        "  name = obj.find('name').text\n",
        "  bndbox = obj.find('bndbox')\n",
        "  xmin = bndbox.find('xmin').text\n",
        "  xmax = bndbox.find('xmax').text\n",
        "  ymin = bndbox.find('ymin').text\n",
        "  ymax = bndbox.find('ymax').text\n",
        "  parser.append([image_name, width, height, name, xmin, xmax, ymin, ymax])"
      ],
      "metadata": {
        "colab": {
          "base_uri": "https://localhost:8080/"
        },
        "id": "EpsChQ2Ea6ho",
        "outputId": "7e15f4ae-4476-4daa-e43a-f14b3e72cc24"
      },
      "execution_count": 34,
      "outputs": [
        {
          "output_type": "stream",
          "name": "stdout",
          "text": [
            "[['000001.jpg', '1024', '657', 'car', '14', '301', '335', '522'], ['000001.jpg', '1024', '657', 'car', '269', '571', '345', '489'], ['000001.jpg', '1024', '657', 'car', '502', '798', '342', '450'], ['000001.jpg', '1024', '657', 'car', '709', '1009', '333', '438']]\n"
          ]
        }
      ]
    },
    {
      "cell_type": "code",
      "source": [
        "parser"
      ],
      "metadata": {
        "colab": {
          "base_uri": "https://localhost:8080/"
        },
        "id": "LW_izIpmfF9a",
        "outputId": "4099ef9d-4547-46d5-d823-98571cce5bf5"
      },
      "execution_count": 35,
      "outputs": [
        {
          "output_type": "execute_result",
          "data": {
            "text/plain": [
              "[['000001.jpg', '1024', '657', 'car', '14', '301', '335', '522'],\n",
              " ['000001.jpg', '1024', '657', 'car', '269', '571', '345', '489'],\n",
              " ['000001.jpg', '1024', '657', 'car', '502', '798', '342', '450'],\n",
              " ['000001.jpg', '1024', '657', 'car', '709', '1009', '333', '438']]"
            ]
          },
          "metadata": {},
          "execution_count": 35
        }
      ]
    }
  ]
}