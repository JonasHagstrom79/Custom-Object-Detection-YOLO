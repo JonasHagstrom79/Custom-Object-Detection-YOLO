{
 "cells": [
  {
   "cell_type": "code",
   "execution_count": 7,
   "id": "10f350ae-d291-4804-b8ea-86460fad0003",
   "metadata": {},
   "outputs": [],
   "source": [
    "import cv2\n",
    "from yolo_predictions import YOLO_Pred"
   ]
  },
  {
   "cell_type": "code",
   "execution_count": 8,
   "id": "889487c5-9208-4272-8ffc-64feedd78d81",
   "metadata": {},
   "outputs": [],
   "source": [
    "yolo = YOLO_Pred('./Model20/weights/best.onnx', 'data,yaml')"
   ]
  },
  {
   "cell_type": "code",
   "execution_count": null,
   "id": "ab457a99-5295-43db-9216-f5b138c5cfe6",
   "metadata": {},
   "outputs": [],
   "source": [
    "img = cv2.imread('./street_image.jpg')\n",
    "\n",
    "cv2.imshow('img',img)\n",
    "cv2.waitKey(0)\n",
    "cv2.destroyAllWindows()"
   ]
  },
  {
   "cell_type": "code",
   "execution_count": null,
   "id": "3750f6c7-3d4a-4e33-95ae-43aabf39113b",
   "metadata": {},
   "outputs": [],
   "source": [
    "# predictons\n",
    "img_pred = yolo.predictions(img)"
   ]
  },
  {
   "cell_type": "code",
   "execution_count": 5,
   "id": "83f3f4ce-02f3-4d9f-bd86-f2b9bf354de0",
   "metadata": {},
   "outputs": [],
   "source": [
    "cv2.imshow('prediction image',img_pred)\n",
    "cv2.waitKey(0)\n",
    "cv2.destroyAllWindows()"
   ]
  },
  {
   "cell_type": "code",
   "execution_count": 6,
   "id": "e7b060b0-f820-49f6-8ebc-e3b70481aa39",
   "metadata": {},
   "outputs": [
    {
     "name": "stdout",
     "output_type": "stream",
     "text": [
      "Unable to read video\n"
     ]
    }
   ],
   "source": [
    "## Real time Object detection\n",
    "cap = cv2.VideoCapture('video.mp4')\n",
    "\n",
    "while True:\n",
    "    ret, frame = cap.read()\n",
    "    if ret == False:\n",
    "        print(\"Unable to read video\")\n",
    "        break\n",
    "    pred_image = yolo.predictions(frame)\n",
    "\n",
    "    cv2.imshow('YOLO',pred_image)\n",
    "    if cv2.waitKey(1) == 27:\n",
    "        break\n",
    "\n",
    "cv2.destroyAllWindows()\n",
    "cap.release()"
   ]
  },
  {
   "cell_type": "code",
   "execution_count": null,
   "id": "0ab01cf5-9b07-4bb3-a31f-e9287fdf555b",
   "metadata": {},
   "outputs": [],
   "source": []
  }
 ],
 "metadata": {
  "kernelspec": {
   "display_name": "Python 3 (ipykernel)",
   "language": "python",
   "name": "python3"
  },
  "language_info": {
   "codemirror_mode": {
    "name": "ipython",
    "version": 3
   },
   "file_extension": ".py",
   "mimetype": "text/x-python",
   "name": "python",
   "nbconvert_exporter": "python",
   "pygments_lexer": "ipython3",
   "version": "3.8.18"
  }
 },
 "nbformat": 4,
 "nbformat_minor": 5
}
